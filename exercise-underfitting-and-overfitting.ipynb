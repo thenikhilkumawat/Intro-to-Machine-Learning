{
 "cells": [
  {
   "cell_type": "markdown",
   "id": "4ecb5113",
   "metadata": {
    "papermill": {
     "duration": 0.005789,
     "end_time": "2023-06-28T10:14:26.091088",
     "exception": false,
     "start_time": "2023-06-28T10:14:26.085299",
     "status": "completed"
    },
    "tags": []
   },
   "source": [
    "**This notebook is an exercise in the [Introduction to Machine Learning](https://www.kaggle.com/learn/intro-to-machine-learning) course.  You can reference the tutorial at [this link](https://www.kaggle.com/dansbecker/underfitting-and-overfitting).**\n",
    "\n",
    "---\n"
   ]
  },
  {
   "cell_type": "markdown",
   "id": "c7f00263",
   "metadata": {
    "papermill": {
     "duration": 0.004475,
     "end_time": "2023-06-28T10:14:26.100735",
     "exception": false,
     "start_time": "2023-06-28T10:14:26.096260",
     "status": "completed"
    },
    "tags": []
   },
   "source": [
    "## Recap\n",
    "You've built your first model, and now it's time to optimize the size of the tree to make better predictions. Run this cell to set up your coding environment where the previous step left off."
   ]
  },
  {
   "cell_type": "code",
   "execution_count": 1,
   "id": "6299c7f7",
   "metadata": {
    "execution": {
     "iopub.execute_input": "2023-06-28T10:14:26.113710Z",
     "iopub.status.busy": "2023-06-28T10:14:26.113218Z",
     "iopub.status.idle": "2023-06-28T10:14:28.275876Z",
     "shell.execute_reply": "2023-06-28T10:14:28.274871Z"
    },
    "papermill": {
     "duration": 2.174501,
     "end_time": "2023-06-28T10:14:28.280578",
     "exception": false,
     "start_time": "2023-06-28T10:14:26.106077",
     "status": "completed"
    },
    "tags": []
   },
   "outputs": [
    {
     "name": "stdout",
     "output_type": "stream",
     "text": [
      "Validation MAE: 29,653\n",
      "\n",
      "Setup complete\n"
     ]
    }
   ],
   "source": [
    "# Code you have previously used to load data\n",
    "import pandas as pd\n",
    "from sklearn.metrics import mean_absolute_error\n",
    "from sklearn.model_selection import train_test_split\n",
    "from sklearn.tree import DecisionTreeRegressor\n",
    "\n",
    "\n",
    "# Path of the file to read\n",
    "iowa_file_path = '../input/home-data-for-ml-course/train.csv'\n",
    "\n",
    "home_data = pd.read_csv(iowa_file_path)\n",
    "# Create target object and call it y\n",
    "y = home_data.SalePrice\n",
    "# Create X\n",
    "features = ['LotArea', 'YearBuilt', '1stFlrSF', '2ndFlrSF', 'FullBath', 'BedroomAbvGr', 'TotRmsAbvGrd']\n",
    "X = home_data[features]\n",
    "\n",
    "# Split into validation and training data\n",
    "train_X, val_X, train_y, val_y = train_test_split(X, y, random_state=1)\n",
    "\n",
    "# Specify Model\n",
    "iowa_model = DecisionTreeRegressor(random_state=1)\n",
    "# Fit Model\n",
    "iowa_model.fit(train_X, train_y)\n",
    "\n",
    "# Make validation predictions and calculate mean absolute error\n",
    "val_predictions = iowa_model.predict(val_X)\n",
    "val_mae = mean_absolute_error(val_predictions, val_y)\n",
    "print(\"Validation MAE: {:,.0f}\".format(val_mae))\n",
    "\n",
    "# Set up code checking\n",
    "from learntools.core import binder\n",
    "binder.bind(globals())\n",
    "from learntools.machine_learning.ex5 import *\n",
    "print(\"\\nSetup complete\")"
   ]
  },
  {
   "cell_type": "markdown",
   "id": "3e51e804",
   "metadata": {
    "papermill": {
     "duration": 0.006796,
     "end_time": "2023-06-28T10:14:28.294261",
     "exception": false,
     "start_time": "2023-06-28T10:14:28.287465",
     "status": "completed"
    },
    "tags": []
   },
   "source": [
    "# Exercises\n",
    "You could write the function `get_mae` yourself. For now, we'll supply it. This is the same function you read about in the previous lesson. Just run the cell below."
   ]
  },
  {
   "cell_type": "code",
   "execution_count": 2,
   "id": "7e839d65",
   "metadata": {
    "execution": {
     "iopub.execute_input": "2023-06-28T10:14:28.310103Z",
     "iopub.status.busy": "2023-06-28T10:14:28.309518Z",
     "iopub.status.idle": "2023-06-28T10:14:28.316954Z",
     "shell.execute_reply": "2023-06-28T10:14:28.315523Z"
    },
    "papermill": {
     "duration": 0.019321,
     "end_time": "2023-06-28T10:14:28.320304",
     "exception": false,
     "start_time": "2023-06-28T10:14:28.300983",
     "status": "completed"
    },
    "tags": []
   },
   "outputs": [],
   "source": [
    "def get_mae(max_leaf_nodes, train_X, val_X, train_y, val_y):\n",
    "    model = DecisionTreeRegressor(max_leaf_nodes=max_leaf_nodes, random_state=0)\n",
    "    model.fit(train_X, train_y)\n",
    "    preds_val = model.predict(val_X)\n",
    "    mae = mean_absolute_error(val_y, preds_val)\n",
    "    return(mae)"
   ]
  },
  {
   "cell_type": "markdown",
   "id": "41086114",
   "metadata": {
    "papermill": {
     "duration": 0.004795,
     "end_time": "2023-06-28T10:14:28.331940",
     "exception": false,
     "start_time": "2023-06-28T10:14:28.327145",
     "status": "completed"
    },
    "tags": []
   },
   "source": [
    "## Step 1: Compare Different Tree Sizes\n",
    "Write a loop that tries the following values for *max_leaf_nodes* from a set of possible values.\n",
    "\n",
    "Call the *get_mae* function on each value of max_leaf_nodes. Store the output in some way that allows you to select the value of `max_leaf_nodes` that gives the most accurate model on your data."
   ]
  },
  {
   "cell_type": "code",
   "execution_count": 3,
   "id": "6bf31633",
   "metadata": {
    "execution": {
     "iopub.execute_input": "2023-06-28T10:14:28.343665Z",
     "iopub.status.busy": "2023-06-28T10:14:28.343202Z",
     "iopub.status.idle": "2023-06-28T10:14:28.404071Z",
     "shell.execute_reply": "2023-06-28T10:14:28.402924Z"
    },
    "papermill": {
     "duration": 0.06962,
     "end_time": "2023-06-28T10:14:28.406445",
     "exception": false,
     "start_time": "2023-06-28T10:14:28.336825",
     "status": "completed"
    },
    "tags": []
   },
   "outputs": [
    {
     "data": {
      "application/javascript": [
       "parent.postMessage({\"jupyterEvent\": \"custom.exercise_interaction\", \"data\": {\"outcomeType\": 1, \"valueTowardsCompletion\": 0.5, \"interactionType\": 1, \"questionType\": 1, \"questionId\": \"1_BestTreeSize\", \"learnToolsVersion\": \"0.3.4\", \"failureMessage\": \"\", \"exceptionClass\": \"\", \"trace\": \"\"}}, \"*\")"
      ],
      "text/plain": [
       "<IPython.core.display.Javascript object>"
      ]
     },
     "metadata": {},
     "output_type": "display_data"
    },
    {
     "data": {
      "text/markdown": [
       "<span style=\"color:#33cc33\">Correct</span>"
      ],
      "text/plain": [
       "Correct"
      ]
     },
     "metadata": {},
     "output_type": "display_data"
    }
   ],
   "source": [
    "candidate_max_leaf_nodes = [5, 25, 50, 100, 250, 500]\n",
    "# Write loop to find the ideal tree size from candidate_max_leaf_nodes\n",
    "_\n",
    "\n",
    "# Store the best value of max_leaf_nodes (it will be either 5, 25, 50, 100, 250 or 500)\n",
    "scores = {leaf_size: get_mae(leaf_size, train_X, val_X, train_y, val_y) for leaf_size in candidate_max_leaf_nodes}\n",
    "best_tree_size = min(scores, key=scores.get)\n",
    "\n",
    "# Check your answer\n",
    "step_1.check()"
   ]
  },
  {
   "cell_type": "code",
   "execution_count": 4,
   "id": "b684f2dd",
   "metadata": {
    "execution": {
     "iopub.execute_input": "2023-06-28T10:14:28.420316Z",
     "iopub.status.busy": "2023-06-28T10:14:28.418760Z",
     "iopub.status.idle": "2023-06-28T10:14:28.424831Z",
     "shell.execute_reply": "2023-06-28T10:14:28.423482Z"
    },
    "papermill": {
     "duration": 0.016699,
     "end_time": "2023-06-28T10:14:28.428392",
     "exception": false,
     "start_time": "2023-06-28T10:14:28.411693",
     "status": "completed"
    },
    "tags": []
   },
   "outputs": [],
   "source": [
    "# The lines below will show you a hint or the solution.\n",
    "# step_1.hint() \n",
    "#step_1.solution()"
   ]
  },
  {
   "cell_type": "markdown",
   "id": "6d805cb4",
   "metadata": {
    "papermill": {
     "duration": 0.006744,
     "end_time": "2023-06-28T10:14:28.445241",
     "exception": false,
     "start_time": "2023-06-28T10:14:28.438497",
     "status": "completed"
    },
    "tags": []
   },
   "source": [
    "## Step 2: Fit Model Using All Data\n",
    "You know the best tree size. If you were going to deploy this model in practice, you would make it even more accurate by using all of the data and keeping that tree size.  That is, you don't need to hold out the validation data now that you've made all your modeling decisions."
   ]
  },
  {
   "cell_type": "code",
   "execution_count": 5,
   "id": "84d9fbc8",
   "metadata": {
    "execution": {
     "iopub.execute_input": "2023-06-28T10:14:28.460230Z",
     "iopub.status.busy": "2023-06-28T10:14:28.459126Z",
     "iopub.status.idle": "2023-06-28T10:14:28.480152Z",
     "shell.execute_reply": "2023-06-28T10:14:28.478902Z"
    },
    "papermill": {
     "duration": 0.030602,
     "end_time": "2023-06-28T10:14:28.482839",
     "exception": false,
     "start_time": "2023-06-28T10:14:28.452237",
     "status": "completed"
    },
    "tags": []
   },
   "outputs": [
    {
     "data": {
      "application/javascript": [
       "parent.postMessage({\"jupyterEvent\": \"custom.exercise_interaction\", \"data\": {\"outcomeType\": 1, \"valueTowardsCompletion\": 0.5, \"interactionType\": 1, \"questionType\": 2, \"questionId\": \"2_FitModelWithAllData\", \"learnToolsVersion\": \"0.3.4\", \"failureMessage\": \"\", \"exceptionClass\": \"\", \"trace\": \"\"}}, \"*\")"
      ],
      "text/plain": [
       "<IPython.core.display.Javascript object>"
      ]
     },
     "metadata": {},
     "output_type": "display_data"
    },
    {
     "data": {
      "text/markdown": [
       "<span style=\"color:#33cc33\">Correct</span>"
      ],
      "text/plain": [
       "Correct"
      ]
     },
     "metadata": {},
     "output_type": "display_data"
    }
   ],
   "source": [
    "# Fill in argument to make optimal size and uncomment\n",
    "# final_model = DecisionTreeRegressor(____)\n",
    "final_model = DecisionTreeRegressor(max_leaf_nodes=best_tree_size, random_state=1)\n",
    "# fit the final model and uncomment the next two lines\n",
    "# final_model.fit(____, ____)\n",
    "final_model.fit(X, y)\n",
    "# Check your answer\n",
    "step_2.check()"
   ]
  },
  {
   "cell_type": "code",
   "execution_count": 6,
   "id": "88a0d0e7",
   "metadata": {
    "execution": {
     "iopub.execute_input": "2023-06-28T10:14:28.496619Z",
     "iopub.status.busy": "2023-06-28T10:14:28.495797Z",
     "iopub.status.idle": "2023-06-28T10:14:28.500488Z",
     "shell.execute_reply": "2023-06-28T10:14:28.499619Z"
    },
    "papermill": {
     "duration": 0.014695,
     "end_time": "2023-06-28T10:14:28.502933",
     "exception": false,
     "start_time": "2023-06-28T10:14:28.488238",
     "status": "completed"
    },
    "tags": []
   },
   "outputs": [],
   "source": [
    "# step_2.hint()\n",
    "#step_2.solution()"
   ]
  },
  {
   "cell_type": "markdown",
   "id": "5ca1aac3",
   "metadata": {
    "papermill": {
     "duration": 0.005231,
     "end_time": "2023-06-28T10:14:28.514048",
     "exception": false,
     "start_time": "2023-06-28T10:14:28.508817",
     "status": "completed"
    },
    "tags": []
   },
   "source": [
    "You've tuned this model and improved your results. But we are still using Decision Tree models, which are not very sophisticated by modern machine learning standards. In the next step you will learn to use Random Forests to improve your models even more.\n",
    "\n",
    "# Keep Going\n",
    "\n",
    "You are ready for **[Random Forests](https://www.kaggle.com/dansbecker/random-forests).**\n"
   ]
  },
  {
   "cell_type": "markdown",
   "id": "023ca041",
   "metadata": {
    "papermill": {
     "duration": 0.005128,
     "end_time": "2023-06-28T10:14:28.524701",
     "exception": false,
     "start_time": "2023-06-28T10:14:28.519573",
     "status": "completed"
    },
    "tags": []
   },
   "source": [
    "---\n",
    "\n",
    "\n",
    "\n",
    "\n",
    "*Have questions or comments? Visit the [course discussion forum](https://www.kaggle.com/learn/intro-to-machine-learning/discussion) to chat with other learners.*"
   ]
  }
 ],
 "metadata": {
  "kernelspec": {
   "display_name": "Python 3",
   "language": "python",
   "name": "python3"
  },
  "language_info": {
   "codemirror_mode": {
    "name": "ipython",
    "version": 3
   },
   "file_extension": ".py",
   "mimetype": "text/x-python",
   "name": "python",
   "nbconvert_exporter": "python",
   "pygments_lexer": "ipython3",
   "version": "3.10.10"
  },
  "papermill": {
   "default_parameters": {},
   "duration": 18.255341,
   "end_time": "2023-06-28T10:14:29.856940",
   "environment_variables": {},
   "exception": null,
   "input_path": "__notebook__.ipynb",
   "output_path": "__notebook__.ipynb",
   "parameters": {},
   "start_time": "2023-06-28T10:14:11.601599",
   "version": "2.4.0"
  }
 },
 "nbformat": 4,
 "nbformat_minor": 5
}

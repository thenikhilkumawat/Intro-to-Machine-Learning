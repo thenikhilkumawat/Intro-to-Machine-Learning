{
 "cells": [
  {
   "cell_type": "markdown",
   "id": "adcd0749",
   "metadata": {
    "papermill": {
     "duration": 0.006851,
     "end_time": "2023-06-28T10:10:07.451888",
     "exception": false,
     "start_time": "2023-06-28T10:10:07.445037",
     "status": "completed"
    },
    "tags": []
   },
   "source": [
    "**This notebook is an exercise in the [Introduction to Machine Learning](https://www.kaggle.com/learn/intro-to-machine-learning) course.  You can reference the tutorial at [this link](https://www.kaggle.com/dansbecker/model-validation).**\n",
    "\n",
    "---\n"
   ]
  },
  {
   "cell_type": "markdown",
   "id": "7f4e8796",
   "metadata": {
    "papermill": {
     "duration": 0.005853,
     "end_time": "2023-06-28T10:10:07.464114",
     "exception": false,
     "start_time": "2023-06-28T10:10:07.458261",
     "status": "completed"
    },
    "tags": []
   },
   "source": [
    "## Recap\n",
    "You've built a model. In this exercise you will test how good your model is.\n",
    "\n",
    "Run the cell below to set up your coding environment where the previous exercise left off."
   ]
  },
  {
   "cell_type": "code",
   "execution_count": 1,
   "id": "c4858eef",
   "metadata": {
    "execution": {
     "iopub.execute_input": "2023-06-28T10:10:07.478903Z",
     "iopub.status.busy": "2023-06-28T10:10:07.478385Z",
     "iopub.status.idle": "2023-06-28T10:10:09.363167Z",
     "shell.execute_reply": "2023-06-28T10:10:09.361946Z"
    },
    "papermill": {
     "duration": 1.896454,
     "end_time": "2023-06-28T10:10:09.366744",
     "exception": false,
     "start_time": "2023-06-28T10:10:07.470290",
     "status": "completed"
    },
    "tags": []
   },
   "outputs": [
    {
     "name": "stdout",
     "output_type": "stream",
     "text": [
      "First in-sample predictions: [208500. 181500. 223500. 140000. 250000.]\n",
      "Actual target values for those homes: [208500, 181500, 223500, 140000, 250000]\n",
      "Setup Complete\n"
     ]
    }
   ],
   "source": [
    "# Code you have previously used to load data\n",
    "import pandas as pd\n",
    "from sklearn.tree import DecisionTreeRegressor\n",
    "\n",
    "# Path of the file to read\n",
    "iowa_file_path = '../input/home-data-for-ml-course/train.csv'\n",
    "\n",
    "home_data = pd.read_csv(iowa_file_path)\n",
    "y = home_data.SalePrice\n",
    "feature_columns = ['LotArea', 'YearBuilt', '1stFlrSF', '2ndFlrSF', 'FullBath', 'BedroomAbvGr', 'TotRmsAbvGrd']\n",
    "X = home_data[feature_columns]\n",
    "\n",
    "# Specify Model\n",
    "iowa_model = DecisionTreeRegressor()\n",
    "# Fit Model\n",
    "iowa_model.fit(X, y)\n",
    "\n",
    "print(\"First in-sample predictions:\", iowa_model.predict(X.head()))\n",
    "print(\"Actual target values for those homes:\", y.head().tolist())\n",
    "\n",
    "# Set up code checking\n",
    "from learntools.core import binder\n",
    "binder.bind(globals())\n",
    "from learntools.machine_learning.ex4 import *\n",
    "print(\"Setup Complete\")"
   ]
  },
  {
   "cell_type": "markdown",
   "id": "58284d5b",
   "metadata": {
    "papermill": {
     "duration": 0.006103,
     "end_time": "2023-06-28T10:10:09.379054",
     "exception": false,
     "start_time": "2023-06-28T10:10:09.372951",
     "status": "completed"
    },
    "tags": []
   },
   "source": [
    "# Exercises\n",
    "\n",
    "## Step 1: Split Your Data\n",
    "Use the `train_test_split` function to split up your data.\n",
    "\n",
    "Give it the argument `random_state=1` so the `check` functions know what to expect when verifying your code.\n",
    "\n",
    "Recall, your features are loaded in the DataFrame **X** and your target is loaded in **y**.\n"
   ]
  },
  {
   "cell_type": "code",
   "execution_count": 2,
   "id": "adb9e290",
   "metadata": {
    "execution": {
     "iopub.execute_input": "2023-06-28T10:10:09.393989Z",
     "iopub.status.busy": "2023-06-28T10:10:09.393198Z",
     "iopub.status.idle": "2023-06-28T10:10:09.409552Z",
     "shell.execute_reply": "2023-06-28T10:10:09.408247Z"
    },
    "papermill": {
     "duration": 0.026985,
     "end_time": "2023-06-28T10:10:09.412392",
     "exception": false,
     "start_time": "2023-06-28T10:10:09.385407",
     "status": "completed"
    },
    "tags": []
   },
   "outputs": [
    {
     "data": {
      "application/javascript": [
       "parent.postMessage({\"jupyterEvent\": \"custom.exercise_interaction\", \"data\": {\"outcomeType\": 1, \"valueTowardsCompletion\": 0.25, \"interactionType\": 1, \"questionType\": 2, \"questionId\": \"1_SplitData\", \"learnToolsVersion\": \"0.3.4\", \"failureMessage\": \"\", \"exceptionClass\": \"\", \"trace\": \"\"}}, \"*\")"
      ],
      "text/plain": [
       "<IPython.core.display.Javascript object>"
      ]
     },
     "metadata": {},
     "output_type": "display_data"
    },
    {
     "data": {
      "text/markdown": [
       "<span style=\"color:#33cc33\">Correct</span>"
      ],
      "text/plain": [
       "Correct"
      ]
     },
     "metadata": {},
     "output_type": "display_data"
    }
   ],
   "source": [
    "# Import the train_test_split function and uncomment\n",
    "# from _ import _\n",
    "from sklearn.model_selection import train_test_split\n",
    "train_X, val_X, train_y, val_y = train_test_split(X, y, random_state=1)\n",
    "# fill in and uncomment\n",
    "# train_X, val_X, train_y, val_y = ____\n",
    "\n",
    "# Check your answer\n",
    "step_1.check()"
   ]
  },
  {
   "cell_type": "code",
   "execution_count": 3,
   "id": "fec4532b",
   "metadata": {
    "execution": {
     "iopub.execute_input": "2023-06-28T10:10:09.427808Z",
     "iopub.status.busy": "2023-06-28T10:10:09.427404Z",
     "iopub.status.idle": "2023-06-28T10:10:09.432523Z",
     "shell.execute_reply": "2023-06-28T10:10:09.431154Z"
    },
    "papermill": {
     "duration": 0.016385,
     "end_time": "2023-06-28T10:10:09.435335",
     "exception": false,
     "start_time": "2023-06-28T10:10:09.418950",
     "status": "completed"
    },
    "tags": []
   },
   "outputs": [],
   "source": [
    "# The lines below will show you a hint or the solution.\n",
    "# step_1.hint() \n",
    "#step_1.solution()\n"
   ]
  },
  {
   "cell_type": "markdown",
   "id": "724d3ee3",
   "metadata": {
    "papermill": {
     "duration": 0.00634,
     "end_time": "2023-06-28T10:10:09.450028",
     "exception": false,
     "start_time": "2023-06-28T10:10:09.443688",
     "status": "completed"
    },
    "tags": []
   },
   "source": [
    "## Step 2: Specify and Fit the Model\n",
    "\n",
    "Create a `DecisionTreeRegressor` model and fit it to the relevant data.\n",
    "Set `random_state` to 1 again when creating the model."
   ]
  },
  {
   "cell_type": "code",
   "execution_count": 4,
   "id": "afb0e007",
   "metadata": {
    "execution": {
     "iopub.execute_input": "2023-06-28T10:10:09.465496Z",
     "iopub.status.busy": "2023-06-28T10:10:09.465059Z",
     "iopub.status.idle": "2023-06-28T10:10:09.497494Z",
     "shell.execute_reply": "2023-06-28T10:10:09.496097Z"
    },
    "papermill": {
     "duration": 0.043447,
     "end_time": "2023-06-28T10:10:09.500098",
     "exception": false,
     "start_time": "2023-06-28T10:10:09.456651",
     "status": "completed"
    },
    "tags": []
   },
   "outputs": [
    {
     "name": "stdout",
     "output_type": "stream",
     "text": [
      "[186500. 184000. 130000.  92000. 164500. 220000. 335000. 144152. 215000.\n",
      " 262000.]\n",
      "[186500. 184000. 130000.  92000. 164500. 220000. 335000. 144152. 215000.\n",
      " 262000.]\n"
     ]
    },
    {
     "data": {
      "application/javascript": [
       "parent.postMessage({\"jupyterEvent\": \"custom.exercise_interaction\", \"data\": {\"outcomeType\": 1, \"valueTowardsCompletion\": 0.25, \"interactionType\": 1, \"questionType\": 2, \"questionId\": \"2_FitModelWithTrain\", \"learnToolsVersion\": \"0.3.4\", \"failureMessage\": \"\", \"exceptionClass\": \"\", \"trace\": \"\"}}, \"*\")"
      ],
      "text/plain": [
       "<IPython.core.display.Javascript object>"
      ]
     },
     "metadata": {},
     "output_type": "display_data"
    },
    {
     "data": {
      "text/markdown": [
       "<span style=\"color:#33cc33\">Correct</span>"
      ],
      "text/plain": [
       "Correct"
      ]
     },
     "metadata": {},
     "output_type": "display_data"
    }
   ],
   "source": [
    "# You imported DecisionTreeRegressor in your last exercise\n",
    "# and that code has been copied to the setup code above. So, no need to\n",
    "# import it again\n",
    "\n",
    "# Specify the model\n",
    "iowa_model = DecisionTreeRegressor(random_state=1)\n",
    "iowa_model.fit(train_X, train_y)\n",
    "\n",
    "# Fit iowa_model with the training data.\n",
    "____\n",
    "\n",
    "# Check your answer\n",
    "step_2.check()"
   ]
  },
  {
   "cell_type": "code",
   "execution_count": 5,
   "id": "5e820317",
   "metadata": {
    "execution": {
     "iopub.execute_input": "2023-06-28T10:10:09.516594Z",
     "iopub.status.busy": "2023-06-28T10:10:09.516198Z",
     "iopub.status.idle": "2023-06-28T10:10:09.520983Z",
     "shell.execute_reply": "2023-06-28T10:10:09.519703Z"
    },
    "papermill": {
     "duration": 0.017022,
     "end_time": "2023-06-28T10:10:09.524412",
     "exception": false,
     "start_time": "2023-06-28T10:10:09.507390",
     "status": "completed"
    },
    "tags": []
   },
   "outputs": [],
   "source": [
    "# step_2.hint()\n",
    "#step_2.solution()"
   ]
  },
  {
   "cell_type": "markdown",
   "id": "89487749",
   "metadata": {
    "papermill": {
     "duration": 0.006712,
     "end_time": "2023-06-28T10:10:09.539717",
     "exception": false,
     "start_time": "2023-06-28T10:10:09.533005",
     "status": "completed"
    },
    "tags": []
   },
   "source": [
    "## Step 3: Make Predictions with Validation data\n"
   ]
  },
  {
   "cell_type": "code",
   "execution_count": 6,
   "id": "c6e5fa3a",
   "metadata": {
    "execution": {
     "iopub.execute_input": "2023-06-28T10:10:09.556369Z",
     "iopub.status.busy": "2023-06-28T10:10:09.555937Z",
     "iopub.status.idle": "2023-06-28T10:10:09.569302Z",
     "shell.execute_reply": "2023-06-28T10:10:09.568100Z"
    },
    "papermill": {
     "duration": 0.024476,
     "end_time": "2023-06-28T10:10:09.571772",
     "exception": false,
     "start_time": "2023-06-28T10:10:09.547296",
     "status": "completed"
    },
    "tags": []
   },
   "outputs": [
    {
     "data": {
      "application/javascript": [
       "parent.postMessage({\"jupyterEvent\": \"custom.exercise_interaction\", \"data\": {\"outcomeType\": 1, \"valueTowardsCompletion\": 0.25, \"interactionType\": 1, \"questionType\": 2, \"questionId\": \"3_ValPreds\", \"learnToolsVersion\": \"0.3.4\", \"failureMessage\": \"\", \"exceptionClass\": \"\", \"trace\": \"\"}}, \"*\")"
      ],
      "text/plain": [
       "<IPython.core.display.Javascript object>"
      ]
     },
     "metadata": {},
     "output_type": "display_data"
    },
    {
     "data": {
      "text/markdown": [
       "<span style=\"color:#33cc33\">Correct</span>"
      ],
      "text/plain": [
       "Correct"
      ]
     },
     "metadata": {},
     "output_type": "display_data"
    }
   ],
   "source": [
    "# Predict with all validation observations\n",
    "val_predictions = iowa_model.predict(val_X)\n",
    "\n",
    "# Check your answer\n",
    "step_3.check()"
   ]
  },
  {
   "cell_type": "code",
   "execution_count": 7,
   "id": "a2711f7d",
   "metadata": {
    "execution": {
     "iopub.execute_input": "2023-06-28T10:10:09.589033Z",
     "iopub.status.busy": "2023-06-28T10:10:09.588613Z",
     "iopub.status.idle": "2023-06-28T10:10:09.593487Z",
     "shell.execute_reply": "2023-06-28T10:10:09.592327Z"
    },
    "papermill": {
     "duration": 0.016848,
     "end_time": "2023-06-28T10:10:09.595889",
     "exception": false,
     "start_time": "2023-06-28T10:10:09.579041",
     "status": "completed"
    },
    "tags": []
   },
   "outputs": [],
   "source": [
    "# step_3.hint()\n",
    "#step_3.solution()"
   ]
  },
  {
   "cell_type": "markdown",
   "id": "0f6b8128",
   "metadata": {
    "papermill": {
     "duration": 0.006875,
     "end_time": "2023-06-28T10:10:09.610038",
     "exception": false,
     "start_time": "2023-06-28T10:10:09.603163",
     "status": "completed"
    },
    "tags": []
   },
   "source": [
    "Inspect your predictions and actual values from validation data."
   ]
  },
  {
   "cell_type": "code",
   "execution_count": 8,
   "id": "1b84be79",
   "metadata": {
    "execution": {
     "iopub.execute_input": "2023-06-28T10:10:09.626164Z",
     "iopub.status.busy": "2023-06-28T10:10:09.625721Z",
     "iopub.status.idle": "2023-06-28T10:10:09.632283Z",
     "shell.execute_reply": "2023-06-28T10:10:09.630700Z"
    },
    "papermill": {
     "duration": 0.017652,
     "end_time": "2023-06-28T10:10:09.634886",
     "exception": false,
     "start_time": "2023-06-28T10:10:09.617234",
     "status": "completed"
    },
    "tags": []
   },
   "outputs": [
    {
     "name": "stdout",
     "output_type": "stream",
     "text": [
      "<learntools.core.constants.PlaceholderValue object at 0x7e0bae7850c0>\n",
      "<learntools.core.constants.PlaceholderValue object at 0x7e0bae7850c0>\n"
     ]
    }
   ],
   "source": [
    "# print the top few validation predictions\n",
    "print(____)\n",
    "# print the top few actual prices from validation data\n",
    "print(____)"
   ]
  },
  {
   "cell_type": "markdown",
   "id": "805e99f1",
   "metadata": {
    "papermill": {
     "duration": 0.007544,
     "end_time": "2023-06-28T10:10:09.649967",
     "exception": false,
     "start_time": "2023-06-28T10:10:09.642423",
     "status": "completed"
    },
    "tags": []
   },
   "source": [
    "What do you notice that is different from what you saw with in-sample predictions (which are printed after the top code cell in this page).\n",
    "\n",
    "Do you remember why validation predictions differ from in-sample (or training) predictions? This is an important idea from the last lesson.\n",
    "\n",
    "## Step 4: Calculate the Mean Absolute Error in Validation Data\n"
   ]
  },
  {
   "cell_type": "code",
   "execution_count": 9,
   "id": "d9f3cb16",
   "metadata": {
    "execution": {
     "iopub.execute_input": "2023-06-28T10:10:09.666305Z",
     "iopub.status.busy": "2023-06-28T10:10:09.665866Z",
     "iopub.status.idle": "2023-06-28T10:10:09.675898Z",
     "shell.execute_reply": "2023-06-28T10:10:09.675063Z"
    },
    "papermill": {
     "duration": 0.020743,
     "end_time": "2023-06-28T10:10:09.678029",
     "exception": false,
     "start_time": "2023-06-28T10:10:09.657286",
     "status": "completed"
    },
    "tags": []
   },
   "outputs": [
    {
     "data": {
      "application/javascript": [
       "parent.postMessage({\"jupyterEvent\": \"custom.exercise_interaction\", \"data\": {\"outcomeType\": 1, \"valueTowardsCompletion\": 0.25, \"interactionType\": 1, \"questionType\": 1, \"questionId\": \"4_MAE\", \"learnToolsVersion\": \"0.3.4\", \"failureMessage\": \"\", \"exceptionClass\": \"\", \"trace\": \"\"}}, \"*\")"
      ],
      "text/plain": [
       "<IPython.core.display.Javascript object>"
      ]
     },
     "metadata": {},
     "output_type": "display_data"
    },
    {
     "data": {
      "text/markdown": [
       "<span style=\"color:#33cc33\">Correct</span>"
      ],
      "text/plain": [
       "Correct"
      ]
     },
     "metadata": {},
     "output_type": "display_data"
    }
   ],
   "source": [
    "from sklearn.metrics import mean_absolute_error\n",
    "val_mae = mean_absolute_error(val_y, val_predictions)\n",
    "\n",
    "# uncomment following line to see the validation_mae\n",
    "#print(val_mae)\n",
    "\n",
    "# Check your answer\n",
    "step_4.check()"
   ]
  },
  {
   "cell_type": "code",
   "execution_count": 10,
   "id": "0dc39087",
   "metadata": {
    "execution": {
     "iopub.execute_input": "2023-06-28T10:10:09.694998Z",
     "iopub.status.busy": "2023-06-28T10:10:09.694584Z",
     "iopub.status.idle": "2023-06-28T10:10:09.699342Z",
     "shell.execute_reply": "2023-06-28T10:10:09.698284Z"
    },
    "papermill": {
     "duration": 0.015817,
     "end_time": "2023-06-28T10:10:09.701507",
     "exception": false,
     "start_time": "2023-06-28T10:10:09.685690",
     "status": "completed"
    },
    "tags": []
   },
   "outputs": [],
   "source": [
    "# step_4.hint()\n",
    "#step_4.solution()"
   ]
  },
  {
   "cell_type": "markdown",
   "id": "f45a8df3",
   "metadata": {
    "papermill": {
     "duration": 0.007334,
     "end_time": "2023-06-28T10:10:09.716729",
     "exception": false,
     "start_time": "2023-06-28T10:10:09.709395",
     "status": "completed"
    },
    "tags": []
   },
   "source": [
    "Is that MAE good?  There isn't a general rule for what values are good that applies across applications. But you'll see how to use (and improve) this number in the next step.\n",
    "\n",
    "# Keep Going\n",
    "\n",
    "You are ready for **[Underfitting and Overfitting](https://www.kaggle.com/dansbecker/underfitting-and-overfitting).**\n"
   ]
  },
  {
   "cell_type": "markdown",
   "id": "7322c5a2",
   "metadata": {
    "papermill": {
     "duration": 0.007315,
     "end_time": "2023-06-28T10:10:09.731706",
     "exception": false,
     "start_time": "2023-06-28T10:10:09.724391",
     "status": "completed"
    },
    "tags": []
   },
   "source": [
    "---\n",
    "\n",
    "\n",
    "\n",
    "\n",
    "*Have questions or comments? Visit the [course discussion forum](https://www.kaggle.com/learn/intro-to-machine-learning/discussion) to chat with other learners.*"
   ]
  }
 ],
 "metadata": {
  "kernelspec": {
   "display_name": "Python 3",
   "language": "python",
   "name": "python3"
  },
  "language_info": {
   "codemirror_mode": {
    "name": "ipython",
    "version": 3
   },
   "file_extension": ".py",
   "mimetype": "text/x-python",
   "name": "python",
   "nbconvert_exporter": "python",
   "pygments_lexer": "ipython3",
   "version": "3.10.10"
  },
  "papermill": {
   "default_parameters": {},
   "duration": 15.974156,
   "end_time": "2023-06-28T10:10:10.761679",
   "environment_variables": {},
   "exception": null,
   "input_path": "__notebook__.ipynb",
   "output_path": "__notebook__.ipynb",
   "parameters": {},
   "start_time": "2023-06-28T10:09:54.787523",
   "version": "2.4.0"
  }
 },
 "nbformat": 4,
 "nbformat_minor": 5
}

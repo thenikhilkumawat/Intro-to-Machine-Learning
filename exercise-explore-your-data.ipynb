{
 "cells": [
  {
   "cell_type": "markdown",
   "id": "8dda0f4a",
   "metadata": {
    "papermill": {
     "duration": 0.004329,
     "end_time": "2023-06-28T10:04:06.803061",
     "exception": false,
     "start_time": "2023-06-28T10:04:06.798732",
     "status": "completed"
    },
    "tags": []
   },
   "source": [
    "**[Machine Learning Course Home Page](https://www.kaggle.com/learn/machine-learning)**\n",
    "\n",
    "---\n"
   ]
  },
  {
   "cell_type": "markdown",
   "id": "f5cae7b5",
   "metadata": {
    "papermill": {
     "duration": 0.002745,
     "end_time": "2023-06-28T10:04:06.808709",
     "exception": false,
     "start_time": "2023-06-28T10:04:06.805964",
     "status": "completed"
    },
    "tags": []
   },
   "source": [
    "This exercise will test your ability to read a data file and understand statistics about the data.\n",
    "\n",
    "In later exercises, you will apply techniques to filter the data, build a machine learning model, and iteratively improve your model.\n",
    "\n",
    "The course examples use data from Melbourne. To ensure you can apply these techniques on your own, you will have to apply them to a new dataset (with house prices from Iowa).\n",
    "\n",
    "The exercises use a \"notebook\" coding environment.  In case you are unfamiliar with notebooks, we have a [90-second intro video](https://www.youtube.com/watch?v=4C2qMnaIKL4).\n",
    "\n",
    "# Exercises\n",
    "\n",
    "Run the following cell to set up code-checking, which will verify your work as you go."
   ]
  },
  {
   "cell_type": "code",
   "execution_count": 1,
   "id": "b606a000",
   "metadata": {
    "execution": {
     "iopub.execute_input": "2023-06-28T10:04:06.816597Z",
     "iopub.status.busy": "2023-06-28T10:04:06.815907Z",
     "iopub.status.idle": "2023-06-28T10:04:06.871444Z",
     "shell.execute_reply": "2023-06-28T10:04:06.870572Z"
    },
    "papermill": {
     "duration": 0.06167,
     "end_time": "2023-06-28T10:04:06.873370",
     "exception": false,
     "start_time": "2023-06-28T10:04:06.811700",
     "status": "completed"
    },
    "tags": []
   },
   "outputs": [
    {
     "name": "stdout",
     "output_type": "stream",
     "text": [
      "Setup Complete\n"
     ]
    }
   ],
   "source": [
    "# Set up code checking\n",
    "from learntools.core import binder\n",
    "binder.bind(globals())\n",
    "from learntools.machine_learning.ex2 import *\n",
    "print(\"Setup Complete\")"
   ]
  },
  {
   "cell_type": "markdown",
   "id": "db130bbe",
   "metadata": {
    "papermill": {
     "duration": 0.002769,
     "end_time": "2023-06-28T10:04:06.879291",
     "exception": false,
     "start_time": "2023-06-28T10:04:06.876522",
     "status": "completed"
    },
    "tags": []
   },
   "source": [
    "## Step 1: Loading Data\n",
    "Read the Iowa data file into a Pandas DataFrame called `home_data`."
   ]
  },
  {
   "cell_type": "code",
   "execution_count": 2,
   "id": "bb17710f",
   "metadata": {
    "execution": {
     "iopub.execute_input": "2023-06-28T10:04:06.886440Z",
     "iopub.status.busy": "2023-06-28T10:04:06.886097Z",
     "iopub.status.idle": "2023-06-28T10:04:06.936253Z",
     "shell.execute_reply": "2023-06-28T10:04:06.935256Z"
    },
    "papermill": {
     "duration": 0.05596,
     "end_time": "2023-06-28T10:04:06.938046",
     "exception": false,
     "start_time": "2023-06-28T10:04:06.882086",
     "status": "completed"
    },
    "tags": []
   },
   "outputs": [
    {
     "data": {
      "application/javascript": [
       "parent.postMessage({\"jupyterEvent\": \"custom.exercise_interaction\", \"data\": {\"outcomeType\": 1, \"valueTowardsCompletion\": 0.5, \"interactionType\": 1, \"questionType\": 1, \"questionId\": \"1_LoadHomeData\", \"learnToolsVersion\": \"0.3.4\", \"failureMessage\": \"\", \"exceptionClass\": \"\", \"trace\": \"\"}}, \"*\")"
      ],
      "text/plain": [
       "<IPython.core.display.Javascript object>"
      ]
     },
     "metadata": {},
     "output_type": "display_data"
    },
    {
     "data": {
      "text/markdown": [
       "<span style=\"color:#33cc33\">Correct</span>"
      ],
      "text/plain": [
       "Correct"
      ]
     },
     "metadata": {},
     "output_type": "display_data"
    }
   ],
   "source": [
    "import pandas as pd\n",
    "\n",
    "# Path of the file to read\n",
    "iowa_file_path = '../input/home-data-for-ml-course/train.csv'\n",
    "\n",
    "# Fill in the line below to read the file into a variable home_data\n",
    "home_data = pd.read_csv(iowa_file_path)\n",
    "\n",
    "# Call line below with no argument to check that you've loaded the data correctly\n",
    "step_1.check()"
   ]
  },
  {
   "cell_type": "code",
   "execution_count": 3,
   "id": "cfbef0c9",
   "metadata": {
    "execution": {
     "iopub.execute_input": "2023-06-28T10:04:06.945855Z",
     "iopub.status.busy": "2023-06-28T10:04:06.945554Z",
     "iopub.status.idle": "2023-06-28T10:04:06.949686Z",
     "shell.execute_reply": "2023-06-28T10:04:06.948712Z"
    },
    "papermill": {
     "duration": 0.0101,
     "end_time": "2023-06-28T10:04:06.951399",
     "exception": false,
     "start_time": "2023-06-28T10:04:06.941299",
     "status": "completed"
    },
    "tags": []
   },
   "outputs": [],
   "source": [
    "# Lines below will give you a hint or solution code\n",
    "#step_1.hint()\n",
    "#step_1.solution()"
   ]
  },
  {
   "cell_type": "markdown",
   "id": "5c27b3d1",
   "metadata": {
    "papermill": {
     "duration": 0.002898,
     "end_time": "2023-06-28T10:04:06.957733",
     "exception": false,
     "start_time": "2023-06-28T10:04:06.954835",
     "status": "completed"
    },
    "tags": []
   },
   "source": [
    "## Step 2: Review The Data\n",
    "Use the command you learned to view summary statistics of the data. Then fill in variables to answer the following questions"
   ]
  },
  {
   "cell_type": "code",
   "execution_count": 4,
   "id": "0dbaa0c1",
   "metadata": {
    "execution": {
     "iopub.execute_input": "2023-06-28T10:04:06.965565Z",
     "iopub.status.busy": "2023-06-28T10:04:06.965220Z",
     "iopub.status.idle": "2023-06-28T10:04:06.972990Z",
     "shell.execute_reply": "2023-06-28T10:04:06.971489Z"
    },
    "papermill": {
     "duration": 0.014781,
     "end_time": "2023-06-28T10:04:06.975618",
     "exception": false,
     "start_time": "2023-06-28T10:04:06.960837",
     "status": "completed"
    },
    "tags": []
   },
   "outputs": [
    {
     "data": {
      "text/markdown": [],
      "text/plain": [
       "<learntools.core.constants.PlaceholderValue at 0x7f472c3a1870>"
      ]
     },
     "execution_count": 4,
     "metadata": {},
     "output_type": "execute_result"
    }
   ],
   "source": [
    "# Print summary statistics in next line\n",
    "____"
   ]
  },
  {
   "cell_type": "code",
   "execution_count": 5,
   "id": "5a80274b",
   "metadata": {
    "execution": {
     "iopub.execute_input": "2023-06-28T10:04:06.985479Z",
     "iopub.status.busy": "2023-06-28T10:04:06.985113Z",
     "iopub.status.idle": "2023-06-28T10:04:06.994033Z",
     "shell.execute_reply": "2023-06-28T10:04:06.993007Z"
    },
    "papermill": {
     "duration": 0.016219,
     "end_time": "2023-06-28T10:04:06.996748",
     "exception": false,
     "start_time": "2023-06-28T10:04:06.980529",
     "status": "completed"
    },
    "tags": []
   },
   "outputs": [
    {
     "data": {
      "application/javascript": [
       "parent.postMessage({\"jupyterEvent\": \"custom.exercise_interaction\", \"data\": {\"outcomeType\": 1, \"valueTowardsCompletion\": 0.5, \"interactionType\": 1, \"questionType\": 1, \"questionId\": \"2_HomeDescription\", \"learnToolsVersion\": \"0.3.4\", \"failureMessage\": \"\", \"exceptionClass\": \"\", \"trace\": \"\"}}, \"*\")"
      ],
      "text/plain": [
       "<IPython.core.display.Javascript object>"
      ]
     },
     "metadata": {},
     "output_type": "display_data"
    },
    {
     "data": {
      "text/markdown": [
       "<span style=\"color:#33cc33\">Correct</span>"
      ],
      "text/plain": [
       "Correct"
      ]
     },
     "metadata": {},
     "output_type": "display_data"
    }
   ],
   "source": [
    "# What is the average lot size (rounded to nearest integer)?\n",
    "avg_lot_size = 10517\n",
    "\n",
    "# As of today, how old is the newest home (current year - the date in which it was built)\n",
    "newest_home_age = 13\n",
    "\n",
    "# Checks your answers\n",
    "step_2.check()"
   ]
  },
  {
   "cell_type": "code",
   "execution_count": 6,
   "id": "a8582baa",
   "metadata": {
    "execution": {
     "iopub.execute_input": "2023-06-28T10:04:07.009020Z",
     "iopub.status.busy": "2023-06-28T10:04:07.008146Z",
     "iopub.status.idle": "2023-06-28T10:04:07.012403Z",
     "shell.execute_reply": "2023-06-28T10:04:07.011542Z"
    },
    "papermill": {
     "duration": 0.013019,
     "end_time": "2023-06-28T10:04:07.015078",
     "exception": false,
     "start_time": "2023-06-28T10:04:07.002059",
     "status": "completed"
    },
    "tags": []
   },
   "outputs": [],
   "source": [
    "#step_2.hint()\n",
    "#step_2.solution()"
   ]
  },
  {
   "cell_type": "markdown",
   "id": "0e45efb6",
   "metadata": {
    "papermill": {
     "duration": 0.003387,
     "end_time": "2023-06-28T10:04:07.023428",
     "exception": false,
     "start_time": "2023-06-28T10:04:07.020041",
     "status": "completed"
    },
    "tags": []
   },
   "source": [
    "## Think About Your Data\n",
    "\n",
    "The newest house in your data isn't that new.  A few potential explanations for this:\n",
    "1. They haven't built new houses where this data was collected.\n",
    "1. The data was collected a long time ago. Houses built after the data publication wouldn't show up.\n",
    "\n",
    "If the reason is explanation #1 above, does that affect your trust in the model you build with this data? What about if it is reason #2?\n",
    "\n",
    "How could you dig into the data to see which explanation is more plausible?\n",
    "\n",
    "Check out this **[discussion thread](https://www.kaggle.com/learn-forum/60581)** to see what others think or to add your ideas.\n",
    "\n",
    "# Keep Going\n",
    "\n",
    "You are ready for **[Your First Machine Learning Model](https://www.kaggle.com/dansbecker/your-first-machine-learning-model).**\n"
   ]
  },
  {
   "cell_type": "markdown",
   "id": "f264847e",
   "metadata": {
    "papermill": {
     "duration": 0.003071,
     "end_time": "2023-06-28T10:04:07.030336",
     "exception": false,
     "start_time": "2023-06-28T10:04:07.027265",
     "status": "completed"
    },
    "tags": []
   },
   "source": [
    "---\n",
    "**[Machine Learning Course Home Page](https://www.kaggle.com/learn/machine-learning)**\n",
    "\n"
   ]
  }
 ],
 "metadata": {
  "kernelspec": {
   "display_name": "Python 3",
   "language": "python",
   "name": "python3"
  },
  "language_info": {
   "codemirror_mode": {
    "name": "ipython",
    "version": 3
   },
   "file_extension": ".py",
   "mimetype": "text/x-python",
   "name": "python",
   "nbconvert_exporter": "python",
   "pygments_lexer": "ipython3",
   "version": "3.10.10"
  },
  "papermill": {
   "default_parameters": {},
   "duration": 11.141145,
   "end_time": "2023-06-28T10:04:07.954935",
   "environment_variables": {},
   "exception": null,
   "input_path": "__notebook__.ipynb",
   "output_path": "__notebook__.ipynb",
   "parameters": {},
   "start_time": "2023-06-28T10:03:56.813790",
   "version": "2.4.0"
  }
 },
 "nbformat": 4,
 "nbformat_minor": 5
}

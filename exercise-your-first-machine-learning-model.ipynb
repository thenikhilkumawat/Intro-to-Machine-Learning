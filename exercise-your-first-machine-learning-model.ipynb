{
 "cells": [
  {
   "cell_type": "markdown",
   "id": "7278bae6",
   "metadata": {
    "papermill": {
     "duration": 0.005245,
     "end_time": "2023-06-28T10:05:57.110941",
     "exception": false,
     "start_time": "2023-06-28T10:05:57.105696",
     "status": "completed"
    },
    "tags": []
   },
   "source": [
    "**This notebook is an exercise in the [Introduction to Machine Learning](https://www.kaggle.com/learn/intro-to-machine-learning) course.  You can reference the tutorial at [this link](https://www.kaggle.com/dansbecker/your-first-machine-learning-model).**\n",
    "\n",
    "---\n"
   ]
  },
  {
   "cell_type": "markdown",
   "id": "b61c7eb0",
   "metadata": {
    "papermill": {
     "duration": 0.004647,
     "end_time": "2023-06-28T10:05:57.120423",
     "exception": false,
     "start_time": "2023-06-28T10:05:57.115776",
     "status": "completed"
    },
    "tags": []
   },
   "source": [
    "## Recap\n",
    "So far, you have loaded your data and reviewed it with the following code. Run this cell to set up your coding environment where the previous step left off."
   ]
  },
  {
   "cell_type": "code",
   "execution_count": 1,
   "id": "ae5be7ed",
   "metadata": {
    "execution": {
     "iopub.execute_input": "2023-06-28T10:05:57.131882Z",
     "iopub.status.busy": "2023-06-28T10:05:57.131482Z",
     "iopub.status.idle": "2023-06-28T10:05:58.781205Z",
     "shell.execute_reply": "2023-06-28T10:05:58.779612Z"
    },
    "papermill": {
     "duration": 1.658242,
     "end_time": "2023-06-28T10:05:58.783785",
     "exception": false,
     "start_time": "2023-06-28T10:05:57.125543",
     "status": "completed"
    },
    "tags": []
   },
   "outputs": [
    {
     "name": "stdout",
     "output_type": "stream",
     "text": [
      "Setup Complete\n"
     ]
    }
   ],
   "source": [
    "# Code you have previously used to load data\n",
    "import pandas as pd\n",
    "\n",
    "# Path of the file to read\n",
    "iowa_file_path = '../input/home-data-for-ml-course/train.csv'\n",
    "\n",
    "home_data = pd.read_csv(iowa_file_path)\n",
    "\n",
    "# Set up code checking\n",
    "from learntools.core import binder\n",
    "binder.bind(globals())\n",
    "from learntools.machine_learning.ex3 import *\n",
    "\n",
    "print(\"Setup Complete\")"
   ]
  },
  {
   "cell_type": "markdown",
   "id": "56c24ff1",
   "metadata": {
    "papermill": {
     "duration": 0.004851,
     "end_time": "2023-06-28T10:05:58.793909",
     "exception": false,
     "start_time": "2023-06-28T10:05:58.789058",
     "status": "completed"
    },
    "tags": []
   },
   "source": [
    "# Exercises\n",
    "\n",
    "## Step 1: Specify Prediction Target\n",
    "Select the target variable, which corresponds to the sales price. Save this to a new variable called `y`. You'll need to print a list of the columns to find the name of the column you need.\n"
   ]
  },
  {
   "cell_type": "code",
   "execution_count": 2,
   "id": "ade4b90a",
   "metadata": {
    "execution": {
     "iopub.execute_input": "2023-06-28T10:05:58.805969Z",
     "iopub.status.busy": "2023-06-28T10:05:58.805292Z",
     "iopub.status.idle": "2023-06-28T10:05:58.809743Z",
     "shell.execute_reply": "2023-06-28T10:05:58.808532Z"
    },
    "papermill": {
     "duration": 0.013282,
     "end_time": "2023-06-28T10:05:58.812164",
     "exception": false,
     "start_time": "2023-06-28T10:05:58.798882",
     "status": "completed"
    },
    "tags": []
   },
   "outputs": [],
   "source": [
    "# print the list of columns in the dataset to find the name of the prediction target\n"
   ]
  },
  {
   "cell_type": "code",
   "execution_count": 3,
   "id": "c35112dd",
   "metadata": {
    "execution": {
     "iopub.execute_input": "2023-06-28T10:05:58.825443Z",
     "iopub.status.busy": "2023-06-28T10:05:58.825049Z",
     "iopub.status.idle": "2023-06-28T10:05:58.840022Z",
     "shell.execute_reply": "2023-06-28T10:05:58.839001Z"
    },
    "papermill": {
     "duration": 0.024909,
     "end_time": "2023-06-28T10:05:58.842162",
     "exception": false,
     "start_time": "2023-06-28T10:05:58.817253",
     "status": "completed"
    },
    "tags": []
   },
   "outputs": [
    {
     "data": {
      "application/javascript": [
       "parent.postMessage({\"jupyterEvent\": \"custom.exercise_interaction\", \"data\": {\"outcomeType\": 1, \"valueTowardsCompletion\": 0.25, \"interactionType\": 1, \"questionType\": 2, \"questionId\": \"1_SetTarget\", \"learnToolsVersion\": \"0.3.4\", \"failureMessage\": \"\", \"exceptionClass\": \"\", \"trace\": \"\"}}, \"*\")"
      ],
      "text/plain": [
       "<IPython.core.display.Javascript object>"
      ]
     },
     "metadata": {},
     "output_type": "display_data"
    },
    {
     "data": {
      "text/markdown": [
       "<span style=\"color:#33cc33\">Correct</span>"
      ],
      "text/plain": [
       "Correct"
      ]
     },
     "metadata": {},
     "output_type": "display_data"
    }
   ],
   "source": [
    "y = home_data.SalePrice\n",
    "\n",
    "# Check your answer\n",
    "step_1.check()"
   ]
  },
  {
   "cell_type": "code",
   "execution_count": 4,
   "id": "b62834ef",
   "metadata": {
    "execution": {
     "iopub.execute_input": "2023-06-28T10:05:58.854429Z",
     "iopub.status.busy": "2023-06-28T10:05:58.854021Z",
     "iopub.status.idle": "2023-06-28T10:05:58.857409Z",
     "shell.execute_reply": "2023-06-28T10:05:58.856639Z"
    },
    "papermill": {
     "duration": 0.011616,
     "end_time": "2023-06-28T10:05:58.859217",
     "exception": false,
     "start_time": "2023-06-28T10:05:58.847601",
     "status": "completed"
    },
    "tags": []
   },
   "outputs": [],
   "source": [
    "# The lines below will show you a hint or the solution.\n",
    "# step_1.hint() \n",
    "#step_1.solution()"
   ]
  },
  {
   "cell_type": "markdown",
   "id": "570b365d",
   "metadata": {
    "papermill": {
     "duration": 0.004974,
     "end_time": "2023-06-28T10:05:58.869827",
     "exception": false,
     "start_time": "2023-06-28T10:05:58.864853",
     "status": "completed"
    },
    "tags": []
   },
   "source": [
    "## Step 2: Create X\n",
    "Now you will create a DataFrame called `X` holding the predictive features.\n",
    "\n",
    "Since you want only some columns from the original data, you'll first create a list with the names of the columns you want in `X`.\n",
    "\n",
    "You'll use just the following columns in the list (you can copy and paste the whole list to save some typing, though you'll still need to add quotes):\n",
    "  * LotArea\n",
    "  * YearBuilt\n",
    "  * 1stFlrSF\n",
    "  * 2ndFlrSF\n",
    "  * FullBath\n",
    "  * BedroomAbvGr\n",
    "  * TotRmsAbvGrd\n",
    "\n",
    "After you've created that list of features, use it to create the DataFrame that you'll use to fit the model."
   ]
  },
  {
   "cell_type": "code",
   "execution_count": 5,
   "id": "d595de6e",
   "metadata": {
    "execution": {
     "iopub.execute_input": "2023-06-28T10:05:58.882295Z",
     "iopub.status.busy": "2023-06-28T10:05:58.881670Z",
     "iopub.status.idle": "2023-06-28T10:05:58.896752Z",
     "shell.execute_reply": "2023-06-28T10:05:58.895733Z"
    },
    "papermill": {
     "duration": 0.024125,
     "end_time": "2023-06-28T10:05:58.899137",
     "exception": false,
     "start_time": "2023-06-28T10:05:58.875012",
     "status": "completed"
    },
    "tags": []
   },
   "outputs": [
    {
     "data": {
      "application/javascript": [
       "parent.postMessage({\"jupyterEvent\": \"custom.exercise_interaction\", \"data\": {\"outcomeType\": 1, \"valueTowardsCompletion\": 0.25, \"interactionType\": 1, \"questionType\": 2, \"questionId\": \"2_SelectPredictionData\", \"learnToolsVersion\": \"0.3.4\", \"failureMessage\": \"\", \"exceptionClass\": \"\", \"trace\": \"\"}}, \"*\")"
      ],
      "text/plain": [
       "<IPython.core.display.Javascript object>"
      ]
     },
     "metadata": {},
     "output_type": "display_data"
    },
    {
     "data": {
      "text/markdown": [
       "<span style=\"color:#33cc33\">Correct</span>"
      ],
      "text/plain": [
       "Correct"
      ]
     },
     "metadata": {},
     "output_type": "display_data"
    }
   ],
   "source": [
    "# Create the list of features below\n",
    "feature_names = [\"LotArea\", \"YearBuilt\", \"1stFlrSF\", \"2ndFlrSF\",\n",
    "                      \"FullBath\", \"BedroomAbvGr\", \"TotRmsAbvGrd\"]\n",
    "\n",
    "# Select data corresponding to features in feature_names\n",
    "X = home_data[feature_names]\n",
    "\n",
    "# Check your answer\n",
    "step_2.check()"
   ]
  },
  {
   "cell_type": "code",
   "execution_count": 6,
   "id": "ece0b7d1",
   "metadata": {
    "execution": {
     "iopub.execute_input": "2023-06-28T10:05:58.911789Z",
     "iopub.status.busy": "2023-06-28T10:05:58.911166Z",
     "iopub.status.idle": "2023-06-28T10:05:58.915324Z",
     "shell.execute_reply": "2023-06-28T10:05:58.914596Z"
    },
    "papermill": {
     "duration": 0.01269,
     "end_time": "2023-06-28T10:05:58.917218",
     "exception": false,
     "start_time": "2023-06-28T10:05:58.904528",
     "status": "completed"
    },
    "tags": []
   },
   "outputs": [],
   "source": [
    "# step_2.hint()\n",
    "#step_2.solution()"
   ]
  },
  {
   "cell_type": "markdown",
   "id": "124fe996",
   "metadata": {
    "papermill": {
     "duration": 0.005032,
     "end_time": "2023-06-28T10:05:58.927668",
     "exception": false,
     "start_time": "2023-06-28T10:05:58.922636",
     "status": "completed"
    },
    "tags": []
   },
   "source": [
    "## Review Data\n",
    "Before building a model, take a quick look at **X** to verify it looks sensible"
   ]
  },
  {
   "cell_type": "code",
   "execution_count": 7,
   "id": "20dd01a2",
   "metadata": {
    "execution": {
     "iopub.execute_input": "2023-06-28T10:05:58.940318Z",
     "iopub.status.busy": "2023-06-28T10:05:58.939717Z",
     "iopub.status.idle": "2023-06-28T10:05:58.944186Z",
     "shell.execute_reply": "2023-06-28T10:05:58.943176Z"
    },
    "papermill": {
     "duration": 0.013394,
     "end_time": "2023-06-28T10:05:58.946318",
     "exception": false,
     "start_time": "2023-06-28T10:05:58.932924",
     "status": "completed"
    },
    "tags": []
   },
   "outputs": [],
   "source": [
    "# Review data\n",
    "# print description or statistics from X\n",
    "#print(_)\n",
    "\n",
    "# print the top few lines\n",
    "#print(_)"
   ]
  },
  {
   "cell_type": "markdown",
   "id": "b20298f1",
   "metadata": {
    "papermill": {
     "duration": 0.005084,
     "end_time": "2023-06-28T10:05:58.956876",
     "exception": false,
     "start_time": "2023-06-28T10:05:58.951792",
     "status": "completed"
    },
    "tags": []
   },
   "source": [
    "## Step 3: Specify and Fit Model\n",
    "Create a `DecisionTreeRegressor` and save it iowa_model. Ensure you've done the relevant import from sklearn to run this command.\n",
    "\n",
    "Then fit the model you just created using the data in `X` and `y` that you saved above."
   ]
  },
  {
   "cell_type": "code",
   "execution_count": 8,
   "id": "e2b6d1ba",
   "metadata": {
    "execution": {
     "iopub.execute_input": "2023-06-28T10:05:58.969431Z",
     "iopub.status.busy": "2023-06-28T10:05:58.968793Z",
     "iopub.status.idle": "2023-06-28T10:05:58.987204Z",
     "shell.execute_reply": "2023-06-28T10:05:58.986497Z"
    },
    "papermill": {
     "duration": 0.027155,
     "end_time": "2023-06-28T10:05:58.989267",
     "exception": false,
     "start_time": "2023-06-28T10:05:58.962112",
     "status": "completed"
    },
    "tags": []
   },
   "outputs": [
    {
     "data": {
      "application/javascript": [
       "parent.postMessage({\"jupyterEvent\": \"custom.exercise_interaction\", \"data\": {\"outcomeType\": 1, \"valueTowardsCompletion\": 0.25, \"interactionType\": 1, \"questionType\": 2, \"questionId\": \"3_CreateModel\", \"learnToolsVersion\": \"0.3.4\", \"failureMessage\": \"\", \"exceptionClass\": \"\", \"trace\": \"\"}}, \"*\")"
      ],
      "text/plain": [
       "<IPython.core.display.Javascript object>"
      ]
     },
     "metadata": {},
     "output_type": "display_data"
    },
    {
     "data": {
      "text/markdown": [
       "<span style=\"color:#33cc33\">Correct</span>"
      ],
      "text/plain": [
       "Correct"
      ]
     },
     "metadata": {},
     "output_type": "display_data"
    }
   ],
   "source": [
    "# from _ import _\n",
    "#specify the model. \n",
    "#For model reproducibility, set a numeric value for random_state when specifying the model\n",
    "from sklearn.tree import DecisionTreeRegressor\n",
    "iowa_model = DecisionTreeRegressor(random_state=1)\n",
    "iowa_model.fit(X, y)\n",
    "\n",
    "# Fit the model\n",
    "____\n",
    "\n",
    "# Check your answer\n",
    "step_3.check()"
   ]
  },
  {
   "cell_type": "code",
   "execution_count": 9,
   "id": "66630c23",
   "metadata": {
    "execution": {
     "iopub.execute_input": "2023-06-28T10:05:59.002870Z",
     "iopub.status.busy": "2023-06-28T10:05:59.002187Z",
     "iopub.status.idle": "2023-06-28T10:05:59.006572Z",
     "shell.execute_reply": "2023-06-28T10:05:59.005470Z"
    },
    "papermill": {
     "duration": 0.013442,
     "end_time": "2023-06-28T10:05:59.008697",
     "exception": false,
     "start_time": "2023-06-28T10:05:58.995255",
     "status": "completed"
    },
    "tags": []
   },
   "outputs": [],
   "source": [
    "# step_3.hint()\n",
    "#step_3.solution()"
   ]
  },
  {
   "cell_type": "markdown",
   "id": "c044a6ab",
   "metadata": {
    "papermill": {
     "duration": 0.005273,
     "end_time": "2023-06-28T10:05:59.020002",
     "exception": false,
     "start_time": "2023-06-28T10:05:59.014729",
     "status": "completed"
    },
    "tags": []
   },
   "source": [
    "## Step 4: Make Predictions\n",
    "Make predictions with the model's `predict` command using `X` as the data. Save the results to a variable called `predictions`."
   ]
  },
  {
   "cell_type": "code",
   "execution_count": 10,
   "id": "a3b5cb88",
   "metadata": {
    "execution": {
     "iopub.execute_input": "2023-06-28T10:05:59.033487Z",
     "iopub.status.busy": "2023-06-28T10:05:59.032613Z",
     "iopub.status.idle": "2023-06-28T10:05:59.046836Z",
     "shell.execute_reply": "2023-06-28T10:05:59.045793Z"
    },
    "papermill": {
     "duration": 0.023278,
     "end_time": "2023-06-28T10:05:59.048917",
     "exception": false,
     "start_time": "2023-06-28T10:05:59.025639",
     "status": "completed"
    },
    "tags": []
   },
   "outputs": [
    {
     "name": "stdout",
     "output_type": "stream",
     "text": [
      "[208500. 181500. 223500. ... 266500. 142125. 147500.]\n"
     ]
    },
    {
     "data": {
      "application/javascript": [
       "parent.postMessage({\"jupyterEvent\": \"custom.exercise_interaction\", \"data\": {\"outcomeType\": 1, \"valueTowardsCompletion\": 0.25, \"interactionType\": 1, \"questionType\": 2, \"questionId\": \"4_MakePredictions\", \"learnToolsVersion\": \"0.3.4\", \"failureMessage\": \"\", \"exceptionClass\": \"\", \"trace\": \"\"}}, \"*\")"
      ],
      "text/plain": [
       "<IPython.core.display.Javascript object>"
      ]
     },
     "metadata": {},
     "output_type": "display_data"
    },
    {
     "data": {
      "text/markdown": [
       "<span style=\"color:#33cc33\">Correct</span>"
      ],
      "text/plain": [
       "Correct"
      ]
     },
     "metadata": {},
     "output_type": "display_data"
    }
   ],
   "source": [
    "predictions = iowa_model.predict(X)\n",
    "print(predictions)\n",
    "\n",
    "# Check your answer\n",
    "step_4.check()"
   ]
  },
  {
   "cell_type": "code",
   "execution_count": 11,
   "id": "482c0bf1",
   "metadata": {
    "execution": {
     "iopub.execute_input": "2023-06-28T10:05:59.062667Z",
     "iopub.status.busy": "2023-06-28T10:05:59.062286Z",
     "iopub.status.idle": "2023-06-28T10:05:59.066380Z",
     "shell.execute_reply": "2023-06-28T10:05:59.065449Z"
    },
    "papermill": {
     "duration": 0.01285,
     "end_time": "2023-06-28T10:05:59.068237",
     "exception": false,
     "start_time": "2023-06-28T10:05:59.055387",
     "status": "completed"
    },
    "tags": []
   },
   "outputs": [],
   "source": [
    "# step_4.hint()\n",
    "#step_4.solution()"
   ]
  },
  {
   "cell_type": "markdown",
   "id": "69b61215",
   "metadata": {
    "papermill": {
     "duration": 0.005485,
     "end_time": "2023-06-28T10:05:59.079673",
     "exception": false,
     "start_time": "2023-06-28T10:05:59.074188",
     "status": "completed"
    },
    "tags": []
   },
   "source": [
    "## Think About Your Results\n",
    "\n",
    "Use the `head` method to compare the top few predictions to the actual home values (in `y`) for those same homes. Anything surprising?\n"
   ]
  },
  {
   "cell_type": "code",
   "execution_count": 12,
   "id": "8cf8664a",
   "metadata": {
    "execution": {
     "iopub.execute_input": "2023-06-28T10:05:59.093697Z",
     "iopub.status.busy": "2023-06-28T10:05:59.093016Z",
     "iopub.status.idle": "2023-06-28T10:05:59.096607Z",
     "shell.execute_reply": "2023-06-28T10:05:59.095882Z"
    },
    "papermill": {
     "duration": 0.013264,
     "end_time": "2023-06-28T10:05:59.098665",
     "exception": false,
     "start_time": "2023-06-28T10:05:59.085401",
     "status": "completed"
    },
    "tags": []
   },
   "outputs": [],
   "source": [
    "# You can write code in this cell\n"
   ]
  },
  {
   "cell_type": "markdown",
   "id": "c3971850",
   "metadata": {
    "papermill": {
     "duration": 0.005461,
     "end_time": "2023-06-28T10:05:59.109893",
     "exception": false,
     "start_time": "2023-06-28T10:05:59.104432",
     "status": "completed"
    },
    "tags": []
   },
   "source": [
    "It's natural to ask how accurate the model's predictions will be and how you can improve that. That will be you're next step.\n",
    "\n",
    "# Keep Going\n",
    "\n",
    "You are ready for **[Model Validation](https://www.kaggle.com/dansbecker/model-validation).**\n"
   ]
  },
  {
   "cell_type": "markdown",
   "id": "db6a2d71",
   "metadata": {
    "papermill": {
     "duration": 0.005457,
     "end_time": "2023-06-28T10:05:59.121181",
     "exception": false,
     "start_time": "2023-06-28T10:05:59.115724",
     "status": "completed"
    },
    "tags": []
   },
   "source": [
    "---\n",
    "\n",
    "\n",
    "\n",
    "\n",
    "*Have questions or comments? Visit the [course discussion forum](https://www.kaggle.com/learn/intro-to-machine-learning/discussion) to chat with other learners.*"
   ]
  }
 ],
 "metadata": {
  "kernelspec": {
   "display_name": "Python 3",
   "language": "python",
   "name": "python3"
  },
  "language_info": {
   "codemirror_mode": {
    "name": "ipython",
    "version": 3
   },
   "file_extension": ".py",
   "mimetype": "text/x-python",
   "name": "python",
   "nbconvert_exporter": "python",
   "pygments_lexer": "ipython3",
   "version": "3.10.10"
  },
  "papermill": {
   "default_parameters": {},
   "duration": 12.909412,
   "end_time": "2023-06-28T10:06:00.048681",
   "environment_variables": {},
   "exception": null,
   "input_path": "__notebook__.ipynb",
   "output_path": "__notebook__.ipynb",
   "parameters": {},
   "start_time": "2023-06-28T10:05:47.139269",
   "version": "2.4.0"
  }
 },
 "nbformat": 4,
 "nbformat_minor": 5
}
